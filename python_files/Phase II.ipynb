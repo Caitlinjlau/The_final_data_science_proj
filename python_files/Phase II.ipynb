{
 "cells": [
  {
   "cell_type": "markdown",
   "metadata": {},
   "source": [
    "- Name: Caitlin Lau (**GROUP OF 1**)\n",
    "- NetID: CJL236\n",
    "- Discussion: 209 \n",
    "### Link to Github Repo: (https://github.com/Caitlinjlau/The_final_data_science_proj)"
   ]
  },
  {
   "cell_type": "markdown",
   "metadata": {},
   "source": [
    "# Research Question: Death Threats on Twitter: Who Receives Them and Why?\n",
    "- Research question(s). State your research question (s) clearly.\n",
    "    - This section tracks the overall transformation of my research question. \n",
    "    - The research question that I started with before scraping:\n",
    "        - **\"On platforms like twitter Are people of certain demographics (particularly women or POC) more or less likely to receive death threats targeted towards them online?\"**\n",
    "        - What had inspired me pursuing this topic was that on October 2nd, 2020 Twitter announced that tweets wishing the death of Donald Trump after he was diagnosed with COVID 19 were against Twitter's terms of service and needed to be removed. \n",
    "        - There was a swift backlash as some women and POC politicians such as New York Democratic Rep. Alexandria Ocasio-Cortez felt that the twitter death threat guidelines had been enforce inconsistently as Twitter had not stood up against their death threats even after repeatedly reporting them to Twitter. \n",
    "        - Link to Twitter's TOS death threat article (\"https://abcnews.go.com/Business/twitter-accused-double-standard-trump-death-posts/story?id=73450089\")\n",
    "        - This topic is currently on the forefront of the American populace and has really interesting implications of what particular demographics of people are most effected by online hatespeech and harrassment on text-based platforms. \n",
    "        - The articles on this topic cite mostly anecdotal evidence for women and POC people saying that they are more heavily affected by threats of violence against them online. \n",
    "        - A data-driven analysis and statistical analysis of tweets that I am able to scrape from Twitter's API allows me to not only analyze factors like follower count, verified status, and whether or not an account is a bot, but I can analyze gender based factors in people who were sent death threats.\n",
    "    - ### WHY IT IS IMPORTANT THAT NEED THIS DATA SET?\n",
    "        - Since a lot of the articles currently cite SOLELY anecdotal evidence of women receving more death threat, clear statistical evidence and data would either further grant weight to these claims. \n",
    "        - This data would be an very interesting op-ed to write about for this class. \n",
    "\n"
   ]
  },
  {
   "cell_type": "markdown",
   "metadata": {},
   "source": [
    "### Research question 2.0 Adding more variables"
   ]
  },
  {
   "cell_type": "markdown",
   "metadata": {},
   "source": [
    "- After using the Tweepy Twitter API and webscraping tweets off the information to create my own unique data set, I realized that there are more variables that I can calculate statistics for when it comes to people who recieve death threats on twitter. \n",
    "- Some of these variables include: \n",
    "    - the follower count \n",
    "    - number of mutual friends\n",
    "    - are they a verified twitter account \n",
    "    - are they geolocated\n",
    "- I realized I can also do **multiple research questions** to see if factors like follower counts, number of mutual friends, verified twitter account status, affect the number of death threats that an account recieves. \n"
   ]
  },
  {
   "cell_type": "markdown",
   "metadata": {},
   "source": [
    "# Data Collection and Cleaning \n",
    "- Have an <em>initial draft of your data cleaning appendix. </em>\n",
    "- Document every step that takes your raw data file(s) and turns it into the analysis-ready data set that you would submit with your final project. \n",
    "\n",
    "- **Include text cells describing your data collection (downloading, scraping, surveys, etc)**\n",
    "    - How I collected this data: \n",
    "        - I used the Twitter python API called **tweepy** to access the api in order to do web scraping. \n",
    "        - I first consulted my TA advisor Andy Zhao on the steps required to properly use the Twitter API. \n",
    "        - First I divided up the tweets I want to search into two categories: \n",
    "            1. People sharing their experiences **receiving** death threats\n",
    "            2. People **sending** death threats to other twitter users\n",
    "        - I first had to register for a twitter API dev account it took 1 day to get my token\n",
    "        - In python in another Jupyter notebook I coded the following to scrape data from the Twitter API\n",
    "            1. Get my dev token authorized by Twitter's API\n",
    "            2. Create my own self defined function which for each phrase parameter I give it: \n",
    "                - Call the Tweepy search function for that particular phrase\n",
    "                - retrieve 400-200 tweets from that phrase \n",
    "                - get the user who tweets each of those tweets \n",
    "                - store user data in an array (10 parameters)\n",
    "                - print and store the user data in a csv file\n",
    "        - In total I search for 6 key phrases: 3 for **receiving** death threats and 3 for **sending** death threats. \n",
    "        - Since in my self-defined method it saves each of the csv's per phrase in a new csv, I had 6 csvs.    "
   ]
  },
  {
   "cell_type": "markdown",
   "metadata": {},
   "source": [
    "- **describing any additional data curation/cleaning (merging data frames, filtering, transformations of variables, etc).**\n",
    "    - After using the Twitter API, I now have 6 separate CSVs, each with 10 columns which have the same variable titles. \n",
    "    - Using Excel, to save time, I copy and pasted the information over from one into one merged data frame. \n",
    "        - This file is called **merged_death_threats.csv**\n",
    "    - Anonmalies: some of the the rows have only an id, but all other user information is blank: I cross referenced the actual accounts on twitter and saw that the tweet was empty and that this was a bot account. These entries in the CSV were deleted manually on excel. \n",
    "    - I mostly kept the variable names the same since I created a self-definied method in python and was able to create my own names for the variable. "
   ]
  },
  {
   "cell_type": "markdown",
   "metadata": {},
   "source": [
    "### DATA CLEANING CODE\n",
    "- Include code cells for data curation/cleaning, but not collection. \n",
    "- Note: You should be saving data in intermediate files at several points through this process so that you are not starting from scratch every time you change something.\n",
    "- This also makes sure you have documentation for everything that you have done for your reference, but we do not necessarily need to see all of it in code form."
   ]
  },
  {
   "cell_type": "code",
   "execution_count": 1,
   "metadata": {},
   "outputs": [],
   "source": [
    "import numpy as np\n",
    "import pandas as pd"
   ]
  },
  {
   "cell_type": "code",
   "execution_count": 2,
   "metadata": {},
   "outputs": [
    {
     "data": {
      "text/html": [
       "<div>\n",
       "<style scoped>\n",
       "    .dataframe tbody tr th:only-of-type {\n",
       "        vertical-align: middle;\n",
       "    }\n",
       "\n",
       "    .dataframe tbody tr th {\n",
       "        vertical-align: top;\n",
       "    }\n",
       "\n",
       "    .dataframe thead th {\n",
       "        text-align: right;\n",
       "    }\n",
       "</style>\n",
       "<table border=\"1\" class=\"dataframe\">\n",
       "  <thead>\n",
       "    <tr style=\"text-align: right;\">\n",
       "      <th></th>\n",
       "      <th>search_word</th>\n",
       "      <th>user</th>\n",
       "      <th>screen_name</th>\n",
       "      <th>text</th>\n",
       "      <th>follow_count</th>\n",
       "      <th>friends</th>\n",
       "      <th>bio</th>\n",
       "      <th>is_verified</th>\n",
       "      <th>is_default_profile</th>\n",
       "      <th>is_default_profile_img</th>\n",
       "      <th>is_geo_enabled</th>\n",
       "    </tr>\n",
       "  </thead>\n",
       "  <tbody>\n",
       "    <tr>\n",
       "      <th>0</th>\n",
       "      <td>I received death threat</td>\n",
       "      <td>User(_api=&lt;tweepy.api.API object at 0x110a2ad9...</td>\n",
       "      <td>COPDLiving</td>\n",
       "      <td>@Paularae06 @washingtonpost I just received a ...</td>\n",
       "      <td>550</td>\n",
       "      <td>692</td>\n",
       "      <td>Researcher, Business Owner,  Author, Amateur G...</td>\n",
       "      <td>False</td>\n",
       "      <td>True</td>\n",
       "      <td>False</td>\n",
       "      <td>True</td>\n",
       "    </tr>\n",
       "    <tr>\n",
       "      <th>1</th>\n",
       "      <td>I received death threat</td>\n",
       "      <td>User(_api=&lt;tweepy.api.API object at 0x110a2ad9...</td>\n",
       "      <td>Sik_o_tards</td>\n",
       "      <td>@TrevorSheatz I've never received a death thre...</td>\n",
       "      <td>253</td>\n",
       "      <td>385</td>\n",
       "      <td>Broken, damaged human. I'm a sinner.  The only...</td>\n",
       "      <td>False</td>\n",
       "      <td>True</td>\n",
       "      <td>False</td>\n",
       "      <td>False</td>\n",
       "    </tr>\n",
       "    <tr>\n",
       "      <th>2</th>\n",
       "      <td>I received death threat</td>\n",
       "      <td>User(_api=&lt;tweepy.api.API object at 0x110a2ad9...</td>\n",
       "      <td>MistyStream</td>\n",
       "      <td>@DawnButlerBrent Utterly disgusting!!! I‚Äôm s...</td>\n",
       "      <td>48</td>\n",
       "      <td>582</td>\n",
       "      <td>Mum, NHS employee, Remainer. Passionate about ...</td>\n",
       "      <td>False</td>\n",
       "      <td>True</td>\n",
       "      <td>False</td>\n",
       "      <td>False</td>\n",
       "    </tr>\n",
       "    <tr>\n",
       "      <th>3</th>\n",
       "      <td>I received death threat</td>\n",
       "      <td>User(_api=&lt;tweepy.api.API object at 0x110a2ad9...</td>\n",
       "      <td>jordan_j40</td>\n",
       "      <td>y‚Äôall I received my first death threat at wo...</td>\n",
       "      <td>625</td>\n",
       "      <td>919</td>\n",
       "      <td>sc: jordan-j40 ü§òüèΩ</td>\n",
       "      <td>False</td>\n",
       "      <td>True</td>\n",
       "      <td>False</td>\n",
       "      <td>False</td>\n",
       "    </tr>\n",
       "    <tr>\n",
       "      <th>4</th>\n",
       "      <td>I received death threat</td>\n",
       "      <td>User(_api=&lt;tweepy.api.API object at 0x110a2ad9...</td>\n",
       "      <td>mediaghosts</td>\n",
       "      <td>This is a death threat. Received at my home in...</td>\n",
       "      <td>2843</td>\n",
       "      <td>477</td>\n",
       "      <td>Founder, https://t.co/FGnOdL1d7u. Technologist...</td>\n",
       "      <td>False</td>\n",
       "      <td>True</td>\n",
       "      <td>False</td>\n",
       "      <td>False</td>\n",
       "    </tr>\n",
       "  </tbody>\n",
       "</table>\n",
       "</div>"
      ],
      "text/plain": [
       "               search_word                                               user  \\\n",
       "0  I received death threat  User(_api=<tweepy.api.API object at 0x110a2ad9...   \n",
       "1  I received death threat  User(_api=<tweepy.api.API object at 0x110a2ad9...   \n",
       "2  I received death threat  User(_api=<tweepy.api.API object at 0x110a2ad9...   \n",
       "3  I received death threat  User(_api=<tweepy.api.API object at 0x110a2ad9...   \n",
       "4  I received death threat  User(_api=<tweepy.api.API object at 0x110a2ad9...   \n",
       "\n",
       "   screen_name                                               text  \\\n",
       "0   COPDLiving  @Paularae06 @washingtonpost I just received a ...   \n",
       "1  Sik_o_tards  @TrevorSheatz I've never received a death thre...   \n",
       "2  MistyStream  @DawnButlerBrent Utterly disgusting!!! I‚Äôm s...   \n",
       "3   jordan_j40  y‚Äôall I received my first death threat at wo...   \n",
       "4  mediaghosts  This is a death threat. Received at my home in...   \n",
       "\n",
       "   follow_count  friends                                                bio  \\\n",
       "0           550      692  Researcher, Business Owner,  Author, Amateur G...   \n",
       "1           253      385  Broken, damaged human. I'm a sinner.  The only...   \n",
       "2            48      582  Mum, NHS employee, Remainer. Passionate about ...   \n",
       "3           625      919                            sc: jordan-j40 ü§òüèΩ   \n",
       "4          2843      477  Founder, https://t.co/FGnOdL1d7u. Technologist...   \n",
       "\n",
       "   is_verified  is_default_profile  is_default_profile_img  is_geo_enabled  \n",
       "0        False                True                   False            True  \n",
       "1        False                True                   False           False  \n",
       "2        False                True                   False           False  \n",
       "3        False                True                   False           False  \n",
       "4        False                True                   False           False  "
      ]
     },
     "execution_count": 2,
     "metadata": {},
     "output_type": "execute_result"
    }
   ],
   "source": [
    "#open and save the csv into a variable and display head\n",
    "raw_tweets = pd.read_csv('merged_death_threats.csv')\n",
    "raw_tweets.head()"
   ]
  },
  {
   "cell_type": "markdown",
   "metadata": {},
   "source": [
    "- **Task 1: Column names** \n",
    "    - I am keeping the column names because they are easy to read and are already formatted with underscores and  are properly descriptive of the data in the columns\n",
    "\n",
    "- **Task 2: drop unnecessary columns**\n",
    "    - I decided that I need to drop the \"user\" column because it is json data that is both not useful for this project's analysis of tweet data and is almost uncoprehendable. \n"
   ]
  },
  {
   "cell_type": "code",
   "execution_count": 3,
   "metadata": {},
   "outputs": [
    {
     "data": {
      "text/html": [
       "<div>\n",
       "<style scoped>\n",
       "    .dataframe tbody tr th:only-of-type {\n",
       "        vertical-align: middle;\n",
       "    }\n",
       "\n",
       "    .dataframe tbody tr th {\n",
       "        vertical-align: top;\n",
       "    }\n",
       "\n",
       "    .dataframe thead th {\n",
       "        text-align: right;\n",
       "    }\n",
       "</style>\n",
       "<table border=\"1\" class=\"dataframe\">\n",
       "  <thead>\n",
       "    <tr style=\"text-align: right;\">\n",
       "      <th></th>\n",
       "      <th>search_word</th>\n",
       "      <th>screen_name</th>\n",
       "      <th>text</th>\n",
       "      <th>follow_count</th>\n",
       "      <th>friends</th>\n",
       "      <th>bio</th>\n",
       "      <th>is_verified</th>\n",
       "      <th>is_default_profile</th>\n",
       "      <th>is_default_profile_img</th>\n",
       "      <th>is_geo_enabled</th>\n",
       "    </tr>\n",
       "  </thead>\n",
       "  <tbody>\n",
       "    <tr>\n",
       "      <th>0</th>\n",
       "      <td>I received death threat</td>\n",
       "      <td>COPDLiving</td>\n",
       "      <td>@Paularae06 @washingtonpost I just received a ...</td>\n",
       "      <td>550</td>\n",
       "      <td>692</td>\n",
       "      <td>Researcher, Business Owner,  Author, Amateur G...</td>\n",
       "      <td>False</td>\n",
       "      <td>True</td>\n",
       "      <td>False</td>\n",
       "      <td>True</td>\n",
       "    </tr>\n",
       "    <tr>\n",
       "      <th>1</th>\n",
       "      <td>I received death threat</td>\n",
       "      <td>Sik_o_tards</td>\n",
       "      <td>@TrevorSheatz I've never received a death thre...</td>\n",
       "      <td>253</td>\n",
       "      <td>385</td>\n",
       "      <td>Broken, damaged human. I'm a sinner.  The only...</td>\n",
       "      <td>False</td>\n",
       "      <td>True</td>\n",
       "      <td>False</td>\n",
       "      <td>False</td>\n",
       "    </tr>\n",
       "    <tr>\n",
       "      <th>2</th>\n",
       "      <td>I received death threat</td>\n",
       "      <td>MistyStream</td>\n",
       "      <td>@DawnButlerBrent Utterly disgusting!!! I‚Äôm s...</td>\n",
       "      <td>48</td>\n",
       "      <td>582</td>\n",
       "      <td>Mum, NHS employee, Remainer. Passionate about ...</td>\n",
       "      <td>False</td>\n",
       "      <td>True</td>\n",
       "      <td>False</td>\n",
       "      <td>False</td>\n",
       "    </tr>\n",
       "    <tr>\n",
       "      <th>3</th>\n",
       "      <td>I received death threat</td>\n",
       "      <td>jordan_j40</td>\n",
       "      <td>y‚Äôall I received my first death threat at wo...</td>\n",
       "      <td>625</td>\n",
       "      <td>919</td>\n",
       "      <td>sc: jordan-j40 ü§òüèΩ</td>\n",
       "      <td>False</td>\n",
       "      <td>True</td>\n",
       "      <td>False</td>\n",
       "      <td>False</td>\n",
       "    </tr>\n",
       "    <tr>\n",
       "      <th>4</th>\n",
       "      <td>I received death threat</td>\n",
       "      <td>mediaghosts</td>\n",
       "      <td>This is a death threat. Received at my home in...</td>\n",
       "      <td>2843</td>\n",
       "      <td>477</td>\n",
       "      <td>Founder, https://t.co/FGnOdL1d7u. Technologist...</td>\n",
       "      <td>False</td>\n",
       "      <td>True</td>\n",
       "      <td>False</td>\n",
       "      <td>False</td>\n",
       "    </tr>\n",
       "  </tbody>\n",
       "</table>\n",
       "</div>"
      ],
      "text/plain": [
       "               search_word  screen_name  \\\n",
       "0  I received death threat   COPDLiving   \n",
       "1  I received death threat  Sik_o_tards   \n",
       "2  I received death threat  MistyStream   \n",
       "3  I received death threat   jordan_j40   \n",
       "4  I received death threat  mediaghosts   \n",
       "\n",
       "                                                text  follow_count  friends  \\\n",
       "0  @Paularae06 @washingtonpost I just received a ...           550      692   \n",
       "1  @TrevorSheatz I've never received a death thre...           253      385   \n",
       "2  @DawnButlerBrent Utterly disgusting!!! I‚Äôm s...            48      582   \n",
       "3  y‚Äôall I received my first death threat at wo...           625      919   \n",
       "4  This is a death threat. Received at my home in...          2843      477   \n",
       "\n",
       "                                                 bio  is_verified  \\\n",
       "0  Researcher, Business Owner,  Author, Amateur G...        False   \n",
       "1  Broken, damaged human. I'm a sinner.  The only...        False   \n",
       "2  Mum, NHS employee, Remainer. Passionate about ...        False   \n",
       "3                            sc: jordan-j40 ü§òüèΩ        False   \n",
       "4  Founder, https://t.co/FGnOdL1d7u. Technologist...        False   \n",
       "\n",
       "   is_default_profile  is_default_profile_img  is_geo_enabled  \n",
       "0                True                   False            True  \n",
       "1                True                   False           False  \n",
       "2                True                   False           False  \n",
       "3                True                   False           False  \n",
       "4                True                   False           False  "
      ]
     },
     "execution_count": 3,
     "metadata": {},
     "output_type": "execute_result"
    }
   ],
   "source": [
    "tweets= raw_tweets[['search_word', 'screen_name', 'text', 'follow_count', 'friends', 'bio', 'is_verified', 'is_default_profile', 'is_default_profile_img', 'is_geo_enabled' ]].copy()\n",
    "tweets.head()\n"
   ]
  },
  {
   "cell_type": "code",
   "execution_count": 4,
   "metadata": {},
   "outputs": [
    {
     "name": "stdout",
     "output_type": "stream",
     "text": [
      "search_word\n",
      "I received death threat    397\n",
      "please commit suicide      396\n",
      "sent death threat          393\n",
      "i hope you die             392\n",
      "got death threat           197\n",
      "please go kill yourself    100\n",
      "Name: search_word, dtype: int64\n",
      "\n",
      "\n",
      "screen_name\n",
      "Matt_Cates         9\n",
      "dojahwasa          6\n",
      "heIofenty          5\n",
      "diamondchalamet    4\n",
      "world_news_eng     4\n",
      "                  ..\n",
      "Liz03585743        1\n",
      "wilbeaux           1\n",
      "BukiWilliams       1\n",
      "meowlentine        1\n",
      "venishere          1\n",
      "Name: screen_name, Length: 1238, dtype: int64\n",
      "\n",
      "\n",
      "text\n",
      "RT @19fenty8: whatever the original problem was with rihanna and this audio byte has completely got lost in the sea of anti-blackness, miso‚Ä¶          288\n",
      "RT @Chibikko_Chuuya: 28 manga volumes from \\n4 different BSD universes\\n37 anime episodes\\n7 Light Novels \\n3 stage plays\\n1 Game since\\n8 years‚Ä¶     170\n",
      "RT @bobcesca_go: I received a serious death threat via Twitter DM a few weeks ago. Not a wish -- a threat. I reported it. You guys did noth‚Ä¶          142\n",
      "RT @MartinBelam: I seem to recall you didn‚Äôt implement this policy when someone sent me a death threat aimed at my children on here.                   76\n",
      "RT @kelly_neidert: I just received another death threat. This is just one of many threats I‚Äôve received for standing up for conservative va‚Ä¶         69\n",
      "                                                                                                                                                       ... \n",
      "@TrevorSheatz I've never received a death threat for sharing Jesus' love, not one.  I must not be working hard enough.                                    1\n",
      "7.\\nOne of them said they can kill us and take the money and nothing will happen.  We were not beaten, but there wer‚Ä¶ https://t.co/cEecVgElEn           1\n",
      "Please don't kill yourself.\\n\\nIf you're struggling with depression &amp; looking for a sign to not go through with endin‚Ä¶ https://t.co/VByWxWCLIi      1\n",
      "That I know for a fact, that if Biden were to tweet out that he got COVID, the responsible conservatives wouldn‚Äôt f‚Ä¶ https://t.co/1z1a0Z3BA6          1\n",
      "Please don't kill yourself.\\n\\nIf you're struggling with depression &amp; looking for a sign to not go through with endin‚Ä¶ https://t.co/wCLfbqRi9t      1\n",
      "Name: text, Length: 518, dtype: int64\n",
      "\n",
      "\n",
      "follow_count\n",
      "1        21\n",
      "37       13\n",
      "0        12\n",
      "69       11\n",
      "93       10\n",
      "         ..\n",
      "33664     1\n",
      "4988      1\n",
      "13176     1\n",
      "878       1\n",
      "654       1\n",
      "Name: follow_count, Length: 919, dtype: int64\n",
      "\n",
      "\n",
      "friends\n",
      "1800    9\n",
      "107     8\n",
      "226     8\n",
      "498     8\n",
      "68      7\n",
      "       ..\n",
      "859     1\n",
      "4950    1\n",
      "2898    1\n",
      "4942    1\n",
      "0       1\n",
      "Name: friends, Length: 968, dtype: int64\n",
      "\n",
      "\n",
      "bio\n",
      "Husband/Dad/Grandpa #SAGAFTRA #VoiceActor #BroadcastLegends #Mensa #Conservatarian. Man. Myth. Legend you never heard of. Likes/Retweets/Follows ‚â† endorsements.      9\n",
      ".                                                                                                                                                                       6\n",
      "doja cat  ‚Ä¢  hwasa                                                                                                                                                    6\n",
      "i believe in whitney houston supremacy                                                                                                                                  5\n",
      "leila they/them                                                                                                                                                         4\n",
      "                                                                                                                                                                       ..\n",
      "Judgemental & Intellectually Starved?!?                                                                                                                                 1\n",
      "Honesty is the best policy                                                                                                                                              1\n",
      "Rhythm Game Addict‚Ñ¢|Oblivious Idiot|\\nBicorn|Weeb‚Ñ¢|Painfully Asian|Titanfall Dumbass|Maplestory Fanatic|Artcore/Hardcore Fanatic|MH Veteran|Pronoun is just Zeon    1\n",
      "Interested in gender, feminism and freedom of speech. \\nDog owner, mum, PhD in history.                                                                                 1\n",
      "We pray for the freedom of Palestine, Kashmir and Egypt under oppressive regimes. Palestine, Kashmir and Egypt WILL be free  insha ALLAH.                               1\n",
      "Name: bio, Length: 1113, dtype: int64\n",
      "\n",
      "\n",
      "is_verified\n",
      "False    1851\n",
      "True       24\n",
      "Name: is_verified, dtype: int64\n",
      "\n",
      "\n",
      "is_default_profile\n",
      "True     1243\n",
      "False     632\n",
      "Name: is_default_profile, dtype: int64\n",
      "\n",
      "\n",
      "is_default_profile_img\n",
      "False    1837\n",
      "True       38\n",
      "Name: is_default_profile_img, dtype: int64\n",
      "\n",
      "\n",
      "is_geo_enabled\n",
      "False    1317\n",
      "True      558\n",
      "Name: is_geo_enabled, dtype: int64\n",
      "\n",
      "\n"
     ]
    }
   ],
   "source": [
    "# looking at what type of cleaning we need\n",
    "#print the column names and print the count of observations per entry type \n",
    "\n",
    "for columns in tweets:\n",
    "    print(columns)\n",
    "    print(tweets[columns].value_counts())\n",
    "    print(\"\\n\")"
   ]
  },
  {
   "cell_type": "markdown",
   "metadata": {},
   "source": [
    "#### What to take away from data cleaning\n",
    "- Not necessarily all of the text of the tweets are necessarily the person's own tweet about receiving or sending death threats\n",
    "- The four most frequent text variations are Retweets.\n",
    "- **Since there are alot of retweet tweets, I need to analyze the data WITH AND WITHOUT the retweets of death threats to see if there is a difference**"
   ]
  },
  {
   "cell_type": "markdown",
   "metadata": {},
   "source": [
    "# Attributes that idicate if an account is a bot\n",
    "- \"Fame for sale: Efficient detection of fake Twitter followers\" Research Paper \n",
    "- This research paper really inspired me to see whether or not an account is a bot or not. \n",
    "- I learned that using the conclusional chart from this paper, I can use this to create a ranking scale to see if an account is a bot or not using the user attributes that I pulled from the API. \n",
    "- Here is the chart: \n",
    "- ![Tux, the Linux mascot](new_bot_table.png)\n",
    "### What I can do with this table/ bot attributes\n",
    "- I can do another **research question** About are bot accounts more or less likely to send/receive tweets with death messages in them? "
   ]
  },
  {
   "cell_type": "markdown",
   "metadata": {},
   "source": [
    "# Data Description \n",
    "\n",
    "### What are the observations (rows) and the attributes (columns)? ###\n",
    "   #### ROWS\n",
    "    \n",
    "   - Each observation ( row) is one tweet that was pulled from the Tweepy API using the search function for 1 out of 6 key phrases. \n",
    "    - For each of the 6 key phrases, there are approximately 200-400 tweets pulled from the Twitter API.    \n",
    "    \n",
    "   #### COLUMNS (attributes)\n",
    "        \n",
    "        - Column 0: \"search_word\"\n",
    "            - The phrase that I used to tweet API to retrieve tweets that contained that phrase. \n",
    "            - There are 6 search_words that I used:\n",
    "                1. I received death threat\n",
    "                2. sent death threat\n",
    "                3. got death threat\n",
    "                4. please go kill yourself\n",
    "                5. i hope you die\n",
    "                6. please commit suicide\n",
    "            - The first three key words were common phrases VICTIMS of death threats used to share their experiences about recieving death threats.\n",
    "            - The last three key words were common phrases SENDERS of death threats used to threaten people online with. \n",
    "        - **Column 1: \"user\"**\n",
    "            - The ID of the User who posted the tweet\n",
    "        - **Column 2: \"screen_name\"**\n",
    "            - The screen username of the user who posted the tweet\n",
    "        - ** Column 3: \"text\"**\n",
    "            - The actual text of the tweet that contains the search_word that I input into the API\n",
    "        - **Column 4: \"follow_count\"**\n",
    "            - The number of followers the account who posted the tweet has\n",
    "        - **Column 5: \"friends\"**\n",
    "            - The number of Mutual followers(friends) the account has\n",
    "        - **Column 6: \"bio\"**\n",
    "            - the self written description or bio that the person has for the account\n",
    "            - important as the user may self-identify gender information on this variable\n",
    "        - **Column 7: \"is_verified**\n",
    "            - True/false variable on whether or not the account is verified by Twitter(blue check mark) \n",
    "        - **Column 8: \"is_default_profile\"**\n",
    "            - True/fasle variable on whether the user has the default profile enabled or not\n",
    "        - **Column 9: \"is_default_profile_img\"**\n",
    "            - True/false variable on whether the person has the default profile picture on their profile.\n",
    "        - **Column 10: \"is_geo_enabled\"**\n",
    "            - True/false variable on whether the person has location tracking on their phone.\n",
    "        - A link with useful information about the user tweepy object from the API (https://www.geeksforgeeks.org/python-user-object-in-tweepy/)\n",
    "\n"
   ]
  },
  {
   "cell_type": "markdown",
   "metadata": {},
   "source": [
    "###  **Why was this dataset created?**\n",
    "   - This dataset was inspired by on October 2nd, following the diagnosis of President Trump with COVID-19, the official twitter account announced that they would remove and tweets and deathtreats for Trump. \n",
    "   - (https://abcnews.go.com/Business/twitter-accused-double-standard-trump-death-posts/story?id=73450089%22)\n",
    "   - Many women and POC Senators felt that Twitter had inconsistently enforced their suspension guidelines about death threats as they did not feel protected by Twitter. \n",
    "   - Senator Alexandria Ocasio-Cortez tweeted as a response to Twitter, \"So... you mean to tell us you could‘ve done this the whole time?\"\n",
    "   - A lot of the Op-eds and articles that reported this incident on twitter used **anecdotal** evidence that women felt that they recieved more death threats and were not infrastructurally protected by twitter. \n",
    "   - I want to create this database to give strong data-based analysis to twitter's realtion with which demographics recieve the most death threats online so that this anecdotal evidence can either be strengthened or disproven with data statistics. \n",
    "   - Hopefully with the importance and urgency that this data set is needed for, I would be really intersted about writing an op-ed about this dataset."
   ]
  },
  {
   "cell_type": "markdown",
   "metadata": {},
   "source": [
    "- **Who funded the creation of the dataset?**\n",
    "    - No one funded the creation of the dataset. I am simply really interested in the topic and created the dataset in order to complete a data science project for a class. \n",
    "- **What processes might have influenced what data was observed and recorded and what was not?**\n",
    "    - Some processess that might have influenced what data was observed was my choice of what particular phrases to search. There was no database of commonly used death threat phrasing on twitter so I selected 6 using trial and error and searching on twitter to see which phrases had the most relavant and enough results for the dataset. \n",
    "    - This influences what was not recorded because if I accidentally forgot a really common phrasing for a search word, those tweets would be completely excluded from my data set. \n",
    "- **What preprocessing was done, and how did the data come to be in the form that you are using?**\n",
    "    - The preprocessing that was done is that I tested out several phrases in the search functionality to see if the resulting tweets were even relevant to the topic. The data came to be in the form that I am using because I tried to get a relatively same amount of tweets per key search word that I searched around 200-400 tweets per key words. I then merged all the csv files with the api searches into one singular csv using excel. \n",
    "- **If people are involved, were they aware of the data collection and if so, what purpose did they expect the data to be used for?**\n",
    "    - The people that were involved include public facing twitter accounts that used one of the 6 phrases that included death threats that I searched using the twitter API. Around 1000 tweets from different accounts were collected and the people who are involved are not aware of the data collection that was done by pulling from the Twitter API. The purpose that they expect the data to be used for is solely statistical calculation and graph visualization. I tried to minimize the amount of identifying information that could be linked back to a sole account in my data analysis. \n",
    "- **Where can your raw source data be found, if applicable? Provide a link to the raw data (hosted in a Cornell Google Drive or Cornell Box).** \n",
    "    ## (https://drive.google.com/file/d/1WuHOtmR--W37j83wkKGcadUmiv2O8kOa/view?usp=sharing)"
   ]
  },
  {
   "cell_type": "markdown",
   "metadata": {},
   "source": [
    "# Important Overall Note Limitations of the Data Set: How am I going to get Gender Data?\n",
    "- Following my meeting with the TA Andy and scraping the data from the tweepy API I realized that **there is no variable that shows the gender of the poster's account on twitter** \n",
    "- I initially was really stuck on this question since my research question is really hinged on the fact that I need information about this data. \n",
    "- TA Andy said I might need to use AI to determine the gender of people based on their name OR profile picture, however this may be outside the scope of the project\n",
    "- However, **I found a workaround** when reading the entirety of the API \n",
    "    - In the bio of many twitter users they include self-disclosed information about their **gender pronouns in the bio.**\n",
    "    - I retrieved the bio variable for each of the users from the API and in the data cleaning phase **scraped the bios of the users to determine self-disclosed gender pronouns to determine the gender of the account** \n",
    "    - This was a doable and easy work around the fact that the Twitter API dosen't have gender information. \n",
    "    - Although more entries may be Culled, since not every account provides self-disclosed pronouns in their bio, it still give us a sizeable amount of people who we can analyze the patterns of death threats and gender from. "
   ]
  },
  {
   "cell_type": "markdown",
   "metadata": {},
   "source": [
    "# Data Limitations \n",
    "- Identify any potential problems with your dataset.\n",
    "    - Potential privacy problems\n",
    "        1. I am scraping gender information from people's self-declared pronouns on their biographies. \n",
    "        2. As a queer nonbinary person (she/they) pronouns, I feel kind of distressed about doing so as I am scared I might put queer or trans people in danger\n",
    "        3. What I am doing to try and fix this problem \n",
    "            4. I am not graphing or analyzing username/id information. Simply just pronouns in biographies. \n",
    "            5. I want to minimize the risk of people going back and reidentifying the data. \n",
    "    - Potential demographic problems\n",
    "        - It may be standard in more liberal leaning networks and people with higher levels of education (i.e. academia) to put their pronouns in their bio. \n",
    "        - I could potentially be leaving out a lot of people who simply don't care about pronouns, don't know about pronouns, or simply don't have pronouns in their bio.\n",
    "        - Although this limit is a risk with my data set, it is important to note that **gender is only one of the attributes that I am calculating statistics for**. \n",
    "        - My data analysis includes 9 more variables, which all the tweets I recieved information for have information for\n",
    "        - **There are a diverse array of demographic information that I have gotten from twitter's API**"
   ]
  },
  {
   "cell_type": "markdown",
   "metadata": {},
   "source": [
    "# Exploratory data analysis \n",
    "- Perform an (initial) exploratory data analysis. \n",
    "- Compute some relevant summary statistics, and show some plots of your data, as applicable to your research question(s). \n",
    "- mean and standard deviation along with visual displays like scatter plots and histograms to describe data\n",
    "\n",
    "- summary statistics: mean, median, mode, standard deviation, variance, quantiles\n",
    "- plots: histograms, boxplots, scatterplots"
   ]
  },
  {
   "cell_type": "code",
   "execution_count": 5,
   "metadata": {},
   "outputs": [],
   "source": [
    "from matplotlib import pyplot as plt"
   ]
  },
  {
   "cell_type": "code",
   "execution_count": 6,
   "metadata": {
    "scrolled": false
   },
   "outputs": [
    {
     "data": {
      "text/html": [
       "<div>\n",
       "<style scoped>\n",
       "    .dataframe tbody tr th:only-of-type {\n",
       "        vertical-align: middle;\n",
       "    }\n",
       "\n",
       "    .dataframe tbody tr th {\n",
       "        vertical-align: top;\n",
       "    }\n",
       "\n",
       "    .dataframe thead th {\n",
       "        text-align: right;\n",
       "    }\n",
       "</style>\n",
       "<table border=\"1\" class=\"dataframe\">\n",
       "  <thead>\n",
       "    <tr style=\"text-align: right;\">\n",
       "      <th></th>\n",
       "      <th>search_word</th>\n",
       "      <th>screen_name</th>\n",
       "      <th>text</th>\n",
       "      <th>follow_count</th>\n",
       "      <th>friends</th>\n",
       "      <th>bio</th>\n",
       "      <th>is_verified</th>\n",
       "      <th>is_default_profile</th>\n",
       "      <th>is_default_profile_img</th>\n",
       "      <th>is_geo_enabled</th>\n",
       "    </tr>\n",
       "  </thead>\n",
       "  <tbody>\n",
       "    <tr>\n",
       "      <th>0</th>\n",
       "      <td>I received death threat</td>\n",
       "      <td>COPDLiving</td>\n",
       "      <td>@Paularae06 @washingtonpost I just received a ...</td>\n",
       "      <td>550</td>\n",
       "      <td>692</td>\n",
       "      <td>Researcher, Business Owner,  Author, Amateur G...</td>\n",
       "      <td>False</td>\n",
       "      <td>True</td>\n",
       "      <td>False</td>\n",
       "      <td>True</td>\n",
       "    </tr>\n",
       "    <tr>\n",
       "      <th>1</th>\n",
       "      <td>I received death threat</td>\n",
       "      <td>Sik_o_tards</td>\n",
       "      <td>@TrevorSheatz I've never received a death thre...</td>\n",
       "      <td>253</td>\n",
       "      <td>385</td>\n",
       "      <td>Broken, damaged human. I'm a sinner.  The only...</td>\n",
       "      <td>False</td>\n",
       "      <td>True</td>\n",
       "      <td>False</td>\n",
       "      <td>False</td>\n",
       "    </tr>\n",
       "    <tr>\n",
       "      <th>2</th>\n",
       "      <td>I received death threat</td>\n",
       "      <td>MistyStream</td>\n",
       "      <td>@DawnButlerBrent Utterly disgusting!!! I‚Äôm s...</td>\n",
       "      <td>48</td>\n",
       "      <td>582</td>\n",
       "      <td>Mum, NHS employee, Remainer. Passionate about ...</td>\n",
       "      <td>False</td>\n",
       "      <td>True</td>\n",
       "      <td>False</td>\n",
       "      <td>False</td>\n",
       "    </tr>\n",
       "    <tr>\n",
       "      <th>3</th>\n",
       "      <td>I received death threat</td>\n",
       "      <td>jordan_j40</td>\n",
       "      <td>y‚Äôall I received my first death threat at wo...</td>\n",
       "      <td>625</td>\n",
       "      <td>919</td>\n",
       "      <td>sc: jordan-j40 ü§òüèΩ</td>\n",
       "      <td>False</td>\n",
       "      <td>True</td>\n",
       "      <td>False</td>\n",
       "      <td>False</td>\n",
       "    </tr>\n",
       "    <tr>\n",
       "      <th>4</th>\n",
       "      <td>I received death threat</td>\n",
       "      <td>mediaghosts</td>\n",
       "      <td>This is a death threat. Received at my home in...</td>\n",
       "      <td>2843</td>\n",
       "      <td>477</td>\n",
       "      <td>Founder, https://t.co/FGnOdL1d7u. Technologist...</td>\n",
       "      <td>False</td>\n",
       "      <td>True</td>\n",
       "      <td>False</td>\n",
       "      <td>False</td>\n",
       "    </tr>\n",
       "  </tbody>\n",
       "</table>\n",
       "</div>"
      ],
      "text/plain": [
       "               search_word  screen_name  \\\n",
       "0  I received death threat   COPDLiving   \n",
       "1  I received death threat  Sik_o_tards   \n",
       "2  I received death threat  MistyStream   \n",
       "3  I received death threat   jordan_j40   \n",
       "4  I received death threat  mediaghosts   \n",
       "\n",
       "                                                text  follow_count  friends  \\\n",
       "0  @Paularae06 @washingtonpost I just received a ...           550      692   \n",
       "1  @TrevorSheatz I've never received a death thre...           253      385   \n",
       "2  @DawnButlerBrent Utterly disgusting!!! I‚Äôm s...            48      582   \n",
       "3  y‚Äôall I received my first death threat at wo...           625      919   \n",
       "4  This is a death threat. Received at my home in...          2843      477   \n",
       "\n",
       "                                                 bio  is_verified  \\\n",
       "0  Researcher, Business Owner,  Author, Amateur G...        False   \n",
       "1  Broken, damaged human. I'm a sinner.  The only...        False   \n",
       "2  Mum, NHS employee, Remainer. Passionate about ...        False   \n",
       "3                            sc: jordan-j40 ü§òüèΩ        False   \n",
       "4  Founder, https://t.co/FGnOdL1d7u. Technologist...        False   \n",
       "\n",
       "   is_default_profile  is_default_profile_img  is_geo_enabled  \n",
       "0                True                   False            True  \n",
       "1                True                   False           False  \n",
       "2                True                   False           False  \n",
       "3                True                   False           False  \n",
       "4                True                   False           False  "
      ]
     },
     "execution_count": 6,
     "metadata": {},
     "output_type": "execute_result"
    }
   ],
   "source": [
    "tweets.head()"
   ]
  },
  {
   "cell_type": "code",
   "execution_count": 7,
   "metadata": {},
   "outputs": [
    {
     "name": "stdout",
     "output_type": "stream",
     "text": [
      "There are 1875 total tweets in the dataframe\n",
      "The number of text tweets that are Retweets are 1261\n"
     ]
    }
   ],
   "source": [
    "#summing important numbers \n",
    "tweets_length= len(tweets)\n",
    "RT_arr= tweets.loc[tweets['text'].str.contains(\"RT\")]\n",
    "RT_arr.head()\n",
    "num_RT=len(RT_arr)\n",
    "print(\"There are {} total tweets in the dataframe\".format(tweets_length))\n",
    "print(\"The number of text tweets that are Retweets are {}\".format(num_RT))\n",
    "\n"
   ]
  },
  {
   "cell_type": "code",
   "execution_count": 8,
   "metadata": {
    "scrolled": true
   },
   "outputs": [
    {
     "name": "stdout",
     "output_type": "stream",
     "text": [
      "The mean of the follow count is 2880.57\n",
      "The mean of the friends is 1395.41\n",
      "\n",
      "The median of the follow count is 407.00\n",
      "The median of friends is 518.00\n",
      "\n",
      "The standard deviation of the follow count is 19474.73\n",
      "The standard deviation of friends is 4524.92\n",
      "\n",
      "The variance of the follow count is 379265259.00\n",
      "The variance of friends is 20474889.61\n"
     ]
    }
   ],
   "source": [
    "\n",
    "#mean \n",
    "print(\"The mean of the follow count is {:.2f}\".format(tweets[\"follow_count\"].mean()))\n",
    "print(\"The mean of the friends is {:.2f}\".format(tweets[\"friends\"].mean()))\n",
    "\n",
    "print(\"\\nThe median of the follow count is {:.2f}\".format(tweets[\"follow_count\"].median()))\n",
    "print(\"The median of friends is {:.2f}\".format(tweets[\"friends\"].median()))\n",
    "\n",
    "print(\"\\nThe standard deviation of the follow count is {:.2f}\".format(tweets[\"follow_count\"].std()))\n",
    "print(\"The standard deviation of friends is {:.2f}\".format(tweets[\"friends\"].std()))\n",
    "\n",
    "print(\"\\nThe variance of the follow count is {:.2f}\".format(tweets[\"follow_count\"].var()))\n",
    "print(\"The variance of friends is {:.2f}\".format(tweets[\"friends\"].var()))"
   ]
  },
  {
   "cell_type": "markdown",
   "metadata": {},
   "source": [
    "### Analyzing the follower/friend realtionship to see if these accounts are real/bots"
   ]
  },
  {
   "cell_type": "code",
   "execution_count": 9,
   "metadata": {},
   "outputs": [
    {
     "name": "stdout",
     "output_type": "stream",
     "text": [
      "The first quartile of the follower counts is: 118.50\n"
     ]
    }
   ],
   "source": [
    "#quantiles\n",
    "#the 1rst quartile is\n",
    "follower_series=pd.Series(tweets[\"follow_count\"])\n",
    "first_follower_quartile=follower_series.quantile(.25)\n",
    "print(\"The first quartile of the follower counts is: {:.2f}\".format(first_follower_quartile))"
   ]
  },
  {
   "cell_type": "code",
   "execution_count": 10,
   "metadata": {
    "scrolled": true
   },
   "outputs": [
    {
     "name": "stdout",
     "output_type": "stream",
     "text": [
      "the mean follower count for each of the search words is:\n",
      "                         follow_count\n",
      "search_word                          \n",
      "I received death threat       3941.51\n",
      "got death threat              1071.09\n",
      "i hope you die                4013.79\n",
      "please commit suicide         1178.97\n",
      "please go kill yourself        948.98\n",
      "sent death threat             3791.60\n"
     ]
    },
    {
     "data": {
      "image/png": "[encoded data removed]",
      "text/plain": [
       "<Figure size 432x288 with 6 Axes>"
      ]
     },
     "metadata": {
      "needs_background": "light"
     },
     "output_type": "display_data"
    }
   ],
   "source": [
    "print(\"the mean follower count for each of the search words is:\")\n",
    "search_word_mean_arr = round(tweets[[\"search_word\", \"follow_count\"]].groupby(\"search_word\").mean(),2)\n",
    "print(search_word_mean_arr)\n",
    "\n",
    "search_word_follow_count_hist=tweets[\"follow_count\"].hist(by=tweets[\"search_word\"])\n",
    "#\"I received death threat\", \"got death threat\", \"i hope you die\", \"please commit suicide\", \"please go kill yourself\", \"sent death threat\""
   ]
  },
  {
   "cell_type": "code",
   "execution_count": 11,
   "metadata": {
    "scrolled": true
   },
   "outputs": [
    {
     "data": {
      "image/png": "[encoded data removed]",
      "text/plain": [
       "<Figure size 432x288 with 1 Axes>"
      ]
     },
     "metadata": {
      "needs_background": "light"
     },
     "output_type": "display_data"
    }
   ],
   "source": [
    "friend_boxplot=tweets.boxplot(column='friends', by=\"search_word\", grid=True)"
   ]
  },
  {
   "cell_type": "code",
   "execution_count": 12,
   "metadata": {},
   "outputs": [
    {
     "name": "stdout",
     "output_type": "stream",
     "text": [
      "376462\n"
     ]
    }
   ],
   "source": [
    "maxfollowcount = tweets[\"follow_count\"].max()\n",
    "print(maxfollowcount)"
   ]
  },
  {
   "cell_type": "code",
   "execution_count": 13,
   "metadata": {
    "scrolled": true
   },
   "outputs": [
    {
     "data": {
      "text/plain": [
       "<matplotlib.collections.PathCollection at 0x11c415be0>"
      ]
     },
     "execution_count": 13,
     "metadata": {},
     "output_type": "execute_result"
    },
    {
     "data": {
      "image/png": "[encoded data removed]",
      "text/plain": [
       "<Figure size 432x288 with 1 Axes>"
      ]
     },
     "metadata": {
      "needs_background": "light"
     },
     "output_type": "display_data"
    }
   ],
   "source": [
    "plt.scatter(tweets[\"follow_count\"], tweets[\"friends\"], alpha=0.3)"
   ]
  },
  {
   "cell_type": "markdown",
   "metadata": {},
   "source": [
    "## Analyzing statistics about people with She/her/hers pronouns in bio"
   ]
  },
  {
   "cell_type": "code",
   "execution_count": 14,
   "metadata": {},
   "outputs": [
    {
     "name": "stdout",
     "output_type": "stream",
     "text": [
      "The number of tweets tweeted by people with she/her/hers pronouns is 165\n",
      "The Porportion of people with she/her/hers pronouns in their bio out of all the tweets in the dataset is: 0.09\n",
      "An example bio of someone with she/her/hers pronouns in their bio is:\n"
     ]
    },
    {
     "data": {
      "text/html": [
       "<div>\n",
       "<style scoped>\n",
       "    .dataframe tbody tr th:only-of-type {\n",
       "        vertical-align: middle;\n",
       "    }\n",
       "\n",
       "    .dataframe tbody tr th {\n",
       "        vertical-align: top;\n",
       "    }\n",
       "\n",
       "    .dataframe thead th {\n",
       "        text-align: right;\n",
       "    }\n",
       "</style>\n",
       "<table border=\"1\" class=\"dataframe\">\n",
       "  <thead>\n",
       "    <tr style=\"text-align: right;\">\n",
       "      <th></th>\n",
       "      <th>search_word</th>\n",
       "      <th>screen_name</th>\n",
       "      <th>text</th>\n",
       "      <th>follow_count</th>\n",
       "      <th>friends</th>\n",
       "      <th>bio</th>\n",
       "      <th>is_verified</th>\n",
       "      <th>is_default_profile</th>\n",
       "      <th>is_default_profile_img</th>\n",
       "      <th>is_geo_enabled</th>\n",
       "    </tr>\n",
       "  </thead>\n",
       "  <tbody>\n",
       "    <tr>\n",
       "      <th>24</th>\n",
       "      <td>I received death threat</td>\n",
       "      <td>LeesaRaaum</td>\n",
       "      <td>RT @kelly_neidert: I just received another dea...</td>\n",
       "      <td>14171</td>\n",
       "      <td>13195</td>\n",
       "      <td>Married to a die hard KC Royals &amp; KC Chiefs fa...</td>\n",
       "      <td>False</td>\n",
       "      <td>True</td>\n",
       "      <td>False</td>\n",
       "      <td>True</td>\n",
       "    </tr>\n",
       "    <tr>\n",
       "      <th>39</th>\n",
       "      <td>I received death threat</td>\n",
       "      <td>otbalwaysyou</td>\n",
       "      <td>honestly surprised i haven't received an anon ...</td>\n",
       "      <td>818</td>\n",
       "      <td>452</td>\n",
       "      <td>you sunshine, you temptress || she/her</td>\n",
       "      <td>False</td>\n",
       "      <td>True</td>\n",
       "      <td>False</td>\n",
       "      <td>False</td>\n",
       "    </tr>\n",
       "    <tr>\n",
       "      <th>55</th>\n",
       "      <td>I received death threat</td>\n",
       "      <td>Theresa90842128</td>\n",
       "      <td>RT @kelly_neidert: I just received another dea...</td>\n",
       "      <td>8387</td>\n",
       "      <td>9233</td>\n",
       "      <td>Common sense, Christian, Patriot, Mother 3 chi...</td>\n",
       "      <td>False</td>\n",
       "      <td>True</td>\n",
       "      <td>True</td>\n",
       "      <td>False</td>\n",
       "    </tr>\n",
       "    <tr>\n",
       "      <th>107</th>\n",
       "      <td>I received death threat</td>\n",
       "      <td>sol__noctis</td>\n",
       "      <td>saw a tweet about it and now I‚Äôm curious..\\n...</td>\n",
       "      <td>220</td>\n",
       "      <td>131</td>\n",
       "      <td>breaking hearts and adopting cats since ‚Äò98 ...</td>\n",
       "      <td>False</td>\n",
       "      <td>False</td>\n",
       "      <td>False</td>\n",
       "      <td>True</td>\n",
       "    </tr>\n",
       "    <tr>\n",
       "      <th>110</th>\n",
       "      <td>I received death threat</td>\n",
       "      <td>vjf6122</td>\n",
       "      <td>RT @Drunemeton: @mmpadellan It does NOT extend...</td>\n",
       "      <td>1089</td>\n",
       "      <td>1540</td>\n",
       "      <td>mother grandmother and fighting for the right ...</td>\n",
       "      <td>False</td>\n",
       "      <td>True</td>\n",
       "      <td>False</td>\n",
       "      <td>True</td>\n",
       "    </tr>\n",
       "  </tbody>\n",
       "</table>\n",
       "</div>"
      ],
      "text/plain": [
       "                 search_word      screen_name  \\\n",
       "24   I received death threat       LeesaRaaum   \n",
       "39   I received death threat     otbalwaysyou   \n",
       "55   I received death threat  Theresa90842128   \n",
       "107  I received death threat      sol__noctis   \n",
       "110  I received death threat          vjf6122   \n",
       "\n",
       "                                                  text  follow_count  friends  \\\n",
       "24   RT @kelly_neidert: I just received another dea...         14171    13195   \n",
       "39   honestly surprised i haven't received an anon ...           818      452   \n",
       "55   RT @kelly_neidert: I just received another dea...          8387     9233   \n",
       "107  saw a tweet about it and now I‚Äôm curious..\\n...           220      131   \n",
       "110  RT @Drunemeton: @mmpadellan It does NOT extend...          1089     1540   \n",
       "\n",
       "                                                   bio  is_verified  \\\n",
       "24   Married to a die hard KC Royals & KC Chiefs fa...        False   \n",
       "39              you sunshine, you temptress || she/her        False   \n",
       "55   Common sense, Christian, Patriot, Mother 3 chi...        False   \n",
       "107  breaking hearts and adopting cats since ‚Äò98 ...        False   \n",
       "110  mother grandmother and fighting for the right ...        False   \n",
       "\n",
       "     is_default_profile  is_default_profile_img  is_geo_enabled  \n",
       "24                 True                   False            True  \n",
       "39                 True                   False           False  \n",
       "55                 True                    True           False  \n",
       "107               False                   False            True  \n",
       "110                True                   False            True  "
      ]
     },
     "execution_count": 14,
     "metadata": {},
     "output_type": "execute_result"
    }
   ],
   "source": [
    "# DF with people with she/her/hers/herself pronouns in their bio\n",
    "she_her_hers_bio_arr= tweets.loc[ (tweets['bio'].str.contains(\"mother\")) | (tweets['bio'].str.contains(\"mom\")) | (tweets['bio'].str.contains(\"woman\")) | (tweets['bio'].str.contains(\"herself\")) | (tweets['bio'].str.startswith(\" she\")) | (tweets['bio'].str.contains(\"she/\")) | (tweets['bio'].str.contains(\"/her\")) | (tweets['bio'].str.contains(\"/hers\"))]\n",
    "\n",
    "num_she_her_hers = len(she_her_hers_bio_arr)\n",
    "print(\"The number of tweets tweeted by people with she/her/hers pronouns is {}\".format(num_she_her_hers))\n",
    "print (\"The Porportion of people with she/her/hers pronouns in their bio out of all the tweets in the dataset is: {:.2f}\".format(num_she_her_hers/tweets_length))\n",
    "print(\"An example bio of someone with she/her/hers pronouns in their bio is:\")\n",
    "\n",
    "she_her_hers_bio_arr.head(n=5)"
   ]
  },
  {
   "cell_type": "code",
   "execution_count": 15,
   "metadata": {},
   "outputs": [
    {
     "name": "stdout",
     "output_type": "stream",
     "text": [
      "The number of women with she/her/hers pronouns in their bio that RECIEVED death threats is: 83\n",
      "\n",
      "The number of women with she/her/hers pronouns in their bio that SENT death threats is: 82\n"
     ]
    }
   ],
   "source": [
    "num_she_dt_received_arr= she_her_hers_bio_arr.loc[(she_her_hers_bio_arr['search_word']==\"I received death threat\") | (she_her_hers_bio_arr['search_word']== \"sent death threat\") | (she_her_hers_bio_arr['search_word']==\"got death threat\")]\n",
    "num_she_dt_received = len(num_she_dt_received_arr)\n",
    "print(\"The number of women with she/her/hers pronouns in their bio that RECIEVED death threats is: {}\".format(num_she_dt_received))\n",
    "\n",
    "num_she_dt_sent_arr= she_her_hers_bio_arr.loc[(she_her_hers_bio_arr['search_word']==\"please go kill yourself\") | (she_her_hers_bio_arr['search_word']== \"i hope you die\") | (she_her_hers_bio_arr['search_word']==\"please commit suicide\")]\n",
    "num_she_dt_sent = len(num_she_dt_sent_arr)\n",
    "print(\"\\nThe number of women with she/her/hers pronouns in their bio that SENT death threats is: {}\".format(num_she_dt_sent))\n"
   ]
  },
  {
   "cell_type": "markdown",
   "metadata": {},
   "source": [
    "## Analyzing statistics about people with he/him/his pronouns in bio"
   ]
  },
  {
   "cell_type": "code",
   "execution_count": 16,
   "metadata": {
    "scrolled": true
   },
   "outputs": [
    {
     "name": "stdout",
     "output_type": "stream",
     "text": [
      "The number of tweets tweeted by people with he/him/his pronouns is 130\n",
      "The Porportion of people with he/him/his pronouns in their bio out of all the tweets in the dataset is: 0.07\n",
      "An example bio of someone with he/him/his pronouns in their bio is:\n"
     ]
    },
    {
     "data": {
      "text/html": [
       "<div>\n",
       "<style scoped>\n",
       "    .dataframe tbody tr th:only-of-type {\n",
       "        vertical-align: middle;\n",
       "    }\n",
       "\n",
       "    .dataframe tbody tr th {\n",
       "        vertical-align: top;\n",
       "    }\n",
       "\n",
       "    .dataframe thead th {\n",
       "        text-align: right;\n",
       "    }\n",
       "</style>\n",
       "<table border=\"1\" class=\"dataframe\">\n",
       "  <thead>\n",
       "    <tr style=\"text-align: right;\">\n",
       "      <th></th>\n",
       "      <th>search_word</th>\n",
       "      <th>screen_name</th>\n",
       "      <th>text</th>\n",
       "      <th>follow_count</th>\n",
       "      <th>friends</th>\n",
       "      <th>bio</th>\n",
       "      <th>is_verified</th>\n",
       "      <th>is_default_profile</th>\n",
       "      <th>is_default_profile_img</th>\n",
       "      <th>is_geo_enabled</th>\n",
       "    </tr>\n",
       "  </thead>\n",
       "  <tbody>\n",
       "    <tr>\n",
       "      <th>6</th>\n",
       "      <td>I received death threat</td>\n",
       "      <td>ProletariatDave</td>\n",
       "      <td>I've just received my first death threat from ...</td>\n",
       "      <td>99</td>\n",
       "      <td>363</td>\n",
       "      <td>Far leftist. Social service worker. Social wor...</td>\n",
       "      <td>False</td>\n",
       "      <td>True</td>\n",
       "      <td>False</td>\n",
       "      <td>False</td>\n",
       "    </tr>\n",
       "    <tr>\n",
       "      <th>7</th>\n",
       "      <td>I received death threat</td>\n",
       "      <td>wokozi</td>\n",
       "      <td>#ÌõÑÎãàÎ≤ÑÌÑ∞ ‚ãÜ Last monday i, Detective Lee...</td>\n",
       "      <td>401</td>\n",
       "      <td>433</td>\n",
       "      <td>#ÌõÑÎãàÎ≤ÑÌÑ∞ : He sings, dances, produces, an...</td>\n",
       "      <td>False</td>\n",
       "      <td>True</td>\n",
       "      <td>False</td>\n",
       "      <td>False</td>\n",
       "    </tr>\n",
       "    <tr>\n",
       "      <th>27</th>\n",
       "      <td>I received death threat</td>\n",
       "      <td>PatriotMember</td>\n",
       "      <td>RT @kelly_neidert: I just received another dea...</td>\n",
       "      <td>3721</td>\n",
       "      <td>5000</td>\n",
       "      <td>#MAGA #Patriot, learn from our history, can‚Äô...</td>\n",
       "      <td>False</td>\n",
       "      <td>True</td>\n",
       "      <td>False</td>\n",
       "      <td>False</td>\n",
       "    </tr>\n",
       "    <tr>\n",
       "      <th>33</th>\n",
       "      <td>I received death threat</td>\n",
       "      <td>kendokenu</td>\n",
       "      <td>RT @kelly_neidert: I just received another dea...</td>\n",
       "      <td>6947</td>\n",
       "      <td>6922</td>\n",
       "      <td>\"Mama always says, \"If you can't say anything ...</td>\n",
       "      <td>False</td>\n",
       "      <td>False</td>\n",
       "      <td>False</td>\n",
       "      <td>False</td>\n",
       "    </tr>\n",
       "    <tr>\n",
       "      <th>43</th>\n",
       "      <td>I received death threat</td>\n",
       "      <td>MnMJax98</td>\n",
       "      <td>If you think that's a death threat, I shudder ...</td>\n",
       "      <td>878</td>\n",
       "      <td>1452</td>\n",
       "      <td>Autistic native author doing his best. Bi, tra...</td>\n",
       "      <td>False</td>\n",
       "      <td>False</td>\n",
       "      <td>False</td>\n",
       "      <td>True</td>\n",
       "    </tr>\n",
       "  </tbody>\n",
       "</table>\n",
       "</div>"
      ],
      "text/plain": [
       "                search_word      screen_name  \\\n",
       "6   I received death threat  ProletariatDave   \n",
       "7   I received death threat           wokozi   \n",
       "27  I received death threat    PatriotMember   \n",
       "33  I received death threat        kendokenu   \n",
       "43  I received death threat         MnMJax98   \n",
       "\n",
       "                                                 text  follow_count  friends  \\\n",
       "6   I've just received my first death threat from ...            99      363   \n",
       "7   #ÌõÑÎãàÎ≤ÑÌÑ∞ ‚ãÜ Last monday i, Detective Lee...           401      433   \n",
       "27  RT @kelly_neidert: I just received another dea...          3721     5000   \n",
       "33  RT @kelly_neidert: I just received another dea...          6947     6922   \n",
       "43  If you think that's a death threat, I shudder ...           878     1452   \n",
       "\n",
       "                                                  bio  is_verified  \\\n",
       "6   Far leftist. Social service worker. Social wor...        False   \n",
       "7   #ÌõÑÎãàÎ≤ÑÌÑ∞ : He sings, dances, produces, an...        False   \n",
       "27  #MAGA #Patriot, learn from our history, can‚Äô...        False   \n",
       "33  \"Mama always says, \"If you can't say anything ...        False   \n",
       "43  Autistic native author doing his best. Bi, tra...        False   \n",
       "\n",
       "    is_default_profile  is_default_profile_img  is_geo_enabled  \n",
       "6                 True                   False           False  \n",
       "7                 True                   False           False  \n",
       "27                True                   False           False  \n",
       "33               False                   False           False  \n",
       "43               False                   False            True  "
      ]
     },
     "execution_count": 16,
     "metadata": {},
     "output_type": "execute_result"
    }
   ],
   "source": [
    "# DF with people with she/her/hers/herself pronouns in their bio\n",
    "he_him_his_bio_arr= tweets.loc[(tweets['bio'].str.contains(\"guy\")) | (tweets['bio'].str.contains(\"dad\")) | (tweets['bio'].str.contains(\"father\")) |(tweets['bio'].str.contains(\"himself\")) | (tweets['bio'].str.contains(\"his\")) | (tweets['bio'].str.contains(\" he/\")) | (tweets['bio'].str.contains(\"/his\")) | (tweets['bio'].str.contains(\"/him\"))]\n",
    "\n",
    "num_he_him_his = len(he_him_his_bio_arr)\n",
    "print(\"The number of tweets tweeted by people with he/him/his pronouns is {}\".format(num_he_him_his))\n",
    "print (\"The Porportion of people with he/him/his pronouns in their bio out of all the tweets in the dataset is: {:.2f}\".format(num_he_him_his/tweets_length))\n",
    "print(\"An example bio of someone with he/him/his pronouns in their bio is:\")\n",
    "\n",
    "he_him_his_bio_arr.head(n=5)"
   ]
  },
  {
   "cell_type": "code",
   "execution_count": 17,
   "metadata": {},
   "outputs": [
    {
     "name": "stdout",
     "output_type": "stream",
     "text": [
      "The number of men with he/him/his pronouns in their bio that RECIEVED death threats is: 67\n",
      "\n",
      "The number of men with he/him/his pronouns in their bio that SENT death threats is: 63\n"
     ]
    }
   ],
   "source": [
    "num_he_dt_received_arr= he_him_his_bio_arr.loc[(he_him_his_bio_arr['search_word']==\"I received death threat\") | (he_him_his_bio_arr['search_word']== \"sent death threat\") | (he_him_his_bio_arr['search_word']==\"got death threat\")]\n",
    "num_he_dt_received = len(num_he_dt_received_arr)\n",
    "print(\"The number of men with he/him/his pronouns in their bio that RECIEVED death threats is: {}\".format(num_he_dt_received))\n",
    "\n",
    "num_he_dt_sent_arr= he_him_his_bio_arr.loc[(he_him_his_bio_arr['search_word']==\"please go kill yourself\") | (he_him_his_bio_arr['search_word']== \"i hope you die\") | (he_him_his_bio_arr['search_word']==\"please commit suicide\")]\n",
    "num_he_dt_sent = len(num_he_dt_sent_arr)\n",
    "print(\"\\nThe number of men with he/him/his pronouns in their bio that SENT death threats is: {}\".format(num_he_dt_sent))\n"
   ]
  },
  {
   "cell_type": "markdown",
   "metadata": {},
   "source": [
    "# Questions for reviewers"
   ]
  },
  {
   "cell_type": "markdown",
   "metadata": {},
   "source": [
    "- Going forward, How am I going to scrape more gender data for my data set approximately I was able to get the pronouns of 300 people total out of my dataset of 1800 people. Should I continue to scape more data and add it to my dataset to get more people with pronouns in their bio. \n",
    "- Is my data set big enough? I have around 1800 entries but aroun 1200 are retweets in some form.\n",
    "    - There is no way to filter out retweets in the Tweepy API so I need to do it in post when analyzing the data\n",
    "- Could I go further with the analysis of my gender variable? Or should I move onto other factors like follow_count, friends, are they a bot? \n",
    "- Sometimes the pronoun sorting statement that I personally wrote in code is not 100% accurate. It's mostly accurate but sometimes, it sorts people into wrong categories. Is this fine?"
   ]
  },
  {
   "cell_type": "markdown",
   "metadata": {},
   "source": [
    "# Code Refernce Appendix"
   ]
  },
  {
   "cell_type": "markdown",
   "metadata": {},
   "source": [
    "### Attached in this zip file is a python file \"tweepy_hello_world.py\"\n",
    "\n",
    "- **Code references that taught me how to write my own self-defined functions** **I wrote my own functions for accessing the API but these links provided me API reference on how to do so since this was the first time using an API for scraping**\n",
    "- How to use and add onto Numpy Array \n",
    "(https://stackoverflow.com/questions/9775297/append-a-numpy-array-to-a-numpy-array)\n",
    "- How to make your own python function \n",
    "(https://www.w3schools.com/python/python_functions.asp)\n",
    "- \n",
    "\n",
    "- ** HOW TO USE THE TWEEPY API**\n",
    "- I was inspired by these chunks of code, however, I mostly read the API and used the documentation from there. \n",
    "- Theses Links are a good place to get started though if you have never used the Twitter API before.\n",
    "    - (http://docs.tweepy.org/en/latest/getting_started.html) \n",
    "    - (http://docs.tweepy.org/en/latest/api.html#user-methods)\n",
    "    - (https://python.gotrained.com/twitter-api-search-tweets/)\n",
    "    - ** NON TWEEPY API RESOURCES\n",
    "    - (http://docs.tweepy.org/en/latest/cursor_tutorial.html)\n",
    "    - (https://stackoverflow.com/questions/56862572/how-to-extract-tweets-location-which-contain-specific-keyword-using-twitter-api)\n",
    "    - (https://www.geeksforgeeks.org/python-tweepy-getting-the-screen-name-of-a-user/)"
   ]
  },
  {
   "cell_type": "markdown",
   "metadata": {},
   "source": [
    "## Research Papers and Literature Review that inspired my data set\n",
    "- Before starting to program, I looked to see if there were pre-existing datasets for death threats on Twitter. \n",
    "- I **Could NOT** find any that were the exact data set that I needed for this project. \n",
    "- However, I was able to find descriptions in related research papers that inspired my data set. \n",
    "- Links to Research Papers Below:\n",
    "    - Detecting threats of violence in online discussions (https://www.semanticscholar.org/paper/Detecting-threats-of-violence-in-online-discussions-Wester/669da1a41201c3567854c2894a63d6f31f5e1d08#extracted)\n",
    "    - Number of convictions for death threats against spouses or cohabitants in France from 2014 to 2018, by gender of author (https://www.statista.com/statistics/783303/sentences-for-death-threats-couple-gender-author-france/)\n",
    "    - Threat Detection in Tweets with Trigger Patterns and Contextual Cues (https://www.researchgate.net/publication/267479922_Threat_Detection_in_Tweets_with_Trigger_Patterns_and_Contextual_Cues) \n",
    "    - \n"
   ]
  }
 ],
 "metadata": {
  "kernelspec": {
   "display_name": "Python 3",
   "language": "python",
   "name": "python3"
  },
  "language_info": {
   "codemirror_mode": {
    "name": "ipython",
    "version": 3
   },
   "file_extension": ".py",
   "mimetype": "text/x-python",
   "name": "python",
   "nbconvert_exporter": "python",
   "pygments_lexer": "ipython3",
   "version": "3.8.5"
  }
 },
 "nbformat": 4,
 "nbformat_minor": 4
}
