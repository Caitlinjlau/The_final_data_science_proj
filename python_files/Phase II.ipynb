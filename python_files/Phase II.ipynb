{
 "cells": [
  {
   "cell_type": "markdown",
   "metadata": {},
   "source": [
    "- Name: Caitlin Lau (**GROUP OF 1**)\n",
    "- NetID: CJL236\n",
    "- Discussion: 209 \n",
    "- Link to Github Repo: (https://github.com/Caitlinjlau/Final-Data-Science-Project)"
   ]
  },
  {
   "cell_type": "markdown",
   "metadata": {},
   "source": [
    "# Research Question: Death Threats on Twitter: Who Recieves Them and Why?\n",
    "- Research question(s). State your research question (s) clearly.\n",
    "    - This section tracks the overall transformation of my research question. \n",
    "    - The research question that I started with before scraping:\n",
    "        - **\"On platforms like twitter Are people of certain demographics (particularly women or POC) more or less likely to receive death threats targeted towards them online?\"**\n",
    "        - What had inspired me pursuing this topic was that on October 2nd, 2020 Twitter announced that tweets wishing the death of Donald Trump after he was diagnosed with COVID 19 were against Twitter's terms of service and needed to be removed. \n",
    "        - There was a swift backlash as some women and POC politicians such as New York Democratic Rep. Alexandria Ocasio-Cortez felt that the twitter death threat guidelines had been enforce inconsistently as Twitter had not stood up against their death threats even after repeatedly reporting them to Twitter. \n",
    "        - Link to Twitter's TOS death threat article (\"https://abcnews.go.com/Business/twitter-accused-double-standard-trump-death-posts/story?id=73450089\")\n",
    "        - This topic is currently on the forefront of the American populace and has really interesting implications of what particular demographics of people are most effected by online hatespeech and harrassment on text-based platforms. \n",
    "        - The articles on this topic cite mostly anecdotal evidence for women and POC people saying that they are more heavily affected by threats of violence against them online. \n",
    "        - A data-driven analysis and statistical analysis of tweets that I am able to scrape from Twitter's API allows me to not only analyze factors like follower count, verified status, and whether or not an account is a bot, but I can analyze gender based factors in people who were sent death threats.\n",
    "    - ### WHY IT IS IMPORTANT THAT NEED THIS DATA SET?\n",
    "        - Since a lot of the articles currently cite SOLELY anecdotal evidence of women receving more death threat, clear statistical evidence and data would either further grant weight to these claims. \n",
    "        - This data would be an very interesting op-ed to write about for this class. \n",
    "\n"
   ]
  },
  {
   "cell_type": "markdown",
   "metadata": {},
   "source": [
    "### Research question 2.0 Adding more variables"
   ]
  },
  {
   "cell_type": "markdown",
   "metadata": {},
   "source": [
    "- After using the Tweepy Twitter API and webscraping tweets off the information to create my own unique data set, I realized that there are more variables that I can calculate statistics for when it comes to people who recieve death threats on twitter. \n",
    "- Some of these variables include: \n",
    "    - the follower count \n",
    "    - number of mutual friends\n",
    "    - are they a verified twitter account \n",
    "    - are they geolocated\n",
    "- I realized I can also do **multiple research questions** to see if factors like follower counts, number of mutual friends, verified twitter account status, affect the number of death threats that an account recieves. \n"
   ]
  },
  {
   "cell_type": "markdown",
   "metadata": {},
   "source": [
    "# Data Collection and Cleaning \n",
    "- Have an <em>initial draft of your data cleaning appendix. </em>\n",
    "- Document every step that takes your raw data file(s) and turns it into the analysis-ready data set that you would submit with your final project. \n",
    "\n",
    "- **Include text cells describing your data collection (downloading, scraping, surveys, etc)**\n",
    "    - How I collected this data: \n",
    "        - I used the Twitter python API called **tweepy** to access the api in order to do web scraping. \n",
    "        - I first consulted my TA advisor Andy Zhao on the steps required to properly use the Twitter API. \n",
    "        - First I divided up the tweets I want to search into two categories: \n",
    "            1. People sharing their experiences **receiving** death threats\n",
    "            2. People **sending** death threats to other twitter users\n",
    "        - I first had to register for a twitter API dev account it took 1 day to get my token\n",
    "        - In python in another Jupyter notebook I coded the following to scrape data from the Twitter API\n",
    "            1. Get my dev token authorized by Twitter's API\n",
    "            2. Create my own self defined function which for each phrase parameter I give it: \n",
    "                - Call the Tweepy search function for that particular phrase\n",
    "                - retrieve 400-200 tweets from that phrase \n",
    "                - get the user who tweets each of those tweets \n",
    "                - store user data in an array (10 parameters)\n",
    "                - print and store the user data in a csv file\n",
    "        - In total I search for 6 key phrases: 3 for **receiving** death threats and 3 for **sending** death threats. \n",
    "        - Since in my self-defined method it saves each of the csv's per phrase in a new csv, I had 6 csvs.    "
   ]
  },
  {
   "cell_type": "markdown",
   "metadata": {},
   "source": [
    "- **describing any additional data curation/cleaning (merging data frames, filtering, transformations of variables, etc).**\n",
    "    - After using the Twitter API, I now have 6 separate CSVs, each with 10 columns which have the same variable titles. \n",
    "    - Using Excel, to save time, I copy and pasted the information over from one into one merged data frame. \n",
    "        - This file is called **merged_death_threats.csv**\n",
    "    - Anonmalies: some of the the rows have only an id, but all other user information is blank: I cross referenced the actual accounts on twitter and saw that the tweet was empty and that this was a bot account. These entries in the CSV were deleted manually on excel. \n",
    "    - I mostly kept the variable names the same since I created a self-definied method in python and was able to create my own names for the variable. "
   ]
  },
  {
   "cell_type": "markdown",
   "metadata": {},
   "source": [
    "### DATA CLEANING CODE\n",
    "- Include code cells for data curation/cleaning, but not collection. \n",
    "- Note: You should be saving data in intermediate files at several points through this process so that you are not starting from scratch every time you change something.\n",
    "- This also makes sure you have documentation for everything that you have done for your reference, but we do not necessarily need to see all of it in code form."
   ]
  },
  {
   "cell_type": "markdown",
   "metadata": {},
   "source": [
    "# Important Overall Note Limitations of the Data Set: How am I going to get Gender Data?\n",
    "- Following my meeting with the TA Andy and scraping the data from the tweepy API I realized that **there is no variable that shows the gender of the poster's account on twitter** \n",
    "- I initially was really stuck on this question since my research question is really hinged on the fact that I need information about this data. \n",
    "- TA Andy said I might need to use AI to determine the gender of people based on their name OR profile picture, however this may be outside the scope of the project\n",
    "- However, **I found a workaround** when reading the entirety of the API \n",
    "    - In the bio of many twitter users they include self-disclosed information about their **gender pronouns in the bio.**\n",
    "    - I retrieved the bio variable for each of the users from the API and in the data cleaning phase **scraped the bios of the users to determine self-disclosed gender pronouns to determine the gender of the account** \n",
    "    - This was a doable and easy work around the fact that the Twitter API dosen't have gender information. \n",
    "    - Although more entries may be Culled, since not every account provides self-disclosed pronouns in their bio, it still give us a sizeable amount of people who we can analyze the patterns of death threats and gender from. "
   ]
  },
  {
   "cell_type": "markdown",
   "metadata": {},
   "source": [
    "# Data Description \n",
    "- **What are the observations (rows) and the attributes (columns)?**\n",
    "\n",
    "- **Why was this dataset created?**\n",
    "- **Who funded the creation of the dataset?**\n",
    "- **What processes might have influenced what data was observed and recorded and what was not?**\n",
    "- **What preprocessing was done, and how did the data come to be in the form that you are using?**\n",
    "- **If people are involved, were they aware of the data collection and if so, what purpose did they expect the data to be used for?**\n",
    "- **Where can your raw source data be found, if applicable? Provide a link to the raw data (hosted in a Cornell Google Drive or Cornell Box).** \n"
   ]
  },
  {
   "cell_type": "markdown",
   "metadata": {},
   "source": [
    "# Data Limitations \n",
    "- Identify any potential problems with your dataset."
   ]
  },
  {
   "cell_type": "markdown",
   "metadata": {},
   "source": [
    "# Exploratory data analysis \n",
    "- Perform an (initial) exploratory data analysis. \n",
    "- Compute some relevant summary statistics, and show some plots of your data, as applicable to your research question(s). \n",
    "- mean and standard deviation along with visual displays like scatter plots and histograms to describe data"
   ]
  },
  {
   "cell_type": "markdown",
   "metadata": {},
   "source": [
    "# Questions for reviewers"
   ]
  },
  {
   "cell_type": "markdown",
   "metadata": {},
   "source": []
  }
 ],
 "metadata": {
  "kernelspec": {
   "display_name": "Python 3",
   "language": "python",
   "name": "python3"
  },
  "language_info": {
   "codemirror_mode": {
    "name": "ipython",
    "version": 3
   },
   "file_extension": ".py",
   "mimetype": "text/x-python",
   "name": "python",
   "nbconvert_exporter": "python",
   "pygments_lexer": "ipython3",
   "version": "3.8.3"
  }
 },
 "nbformat": 4,
 "nbformat_minor": 4
}
